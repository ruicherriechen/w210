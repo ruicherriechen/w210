{
 "cells": [
  {
   "cell_type": "code",
   "execution_count": 9,
   "metadata": {
    "collapsed": false
   },
   "outputs": [
    {
     "name": "stdout",
     "output_type": "stream",
     "text": [
      "read 5189568 frames at 44100Hz from -f\n"
     ]
    }
   ],
   "source": [
    "##1## Read audio file using \n",
    "\n",
    "#! /usr/bin/env python\n",
    "import sys, aubio\n",
    "\n",
    "samplerate = 0  # use original source samplerate\n",
    "hop_size = 256 # number of frames to read in one block\n",
    "s = aubio.source('/Users/chenrui/Documents/MIDS/W210/sample.m4a', samplerate, hop_size)\n",
    "total_frames = 0\n",
    "\n",
    "while True: # reading loop\n",
    "    samples, read = s()\n",
    "    total_frames += read\n",
    "    if read < hop_size: break # end of file reached\n",
    "\n",
    "fmt_string = \"read {:d} frames at {:d}Hz from {:s}\"\n",
    "print (fmt_string.format(total_frames, s.samplerate, sys.argv[1]))"
   ]
  },
  {
   "cell_type": "code",
   "execution_count": 1,
   "metadata": {
    "collapsed": false
   },
   "outputs": [
    {
     "ename": "RuntimeError",
     "evalue": "failed creating notes",
     "output_type": "error",
     "traceback": [
      "\u001b[0;31m---------------------------------------------------------------------------\u001b[0m",
      "\u001b[0;31mRuntimeError\u001b[0m                              Traceback (most recent call last)",
      "\u001b[0;32m<ipython-input-1-8f58f420f537>\u001b[0m in \u001b[0;36m<module>\u001b[0;34m()\u001b[0m\n\u001b[1;32m      9\u001b[0m \u001b[0msamplerate\u001b[0m \u001b[0;34m=\u001b[0m \u001b[0;36m0\u001b[0m  \u001b[0;31m# use original source samplerate\u001b[0m\u001b[0;34m\u001b[0m\u001b[0m\n\u001b[1;32m     10\u001b[0m \u001b[0mhop_size\u001b[0m \u001b[0;34m=\u001b[0m \u001b[0;36m256\u001b[0m \u001b[0;31m# number of frames to read in one block\u001b[0m\u001b[0;34m\u001b[0m\u001b[0m\n\u001b[0;32m---> 11\u001b[0;31m \u001b[0msample\u001b[0m \u001b[0;34m=\u001b[0m \u001b[0maubio\u001b[0m\u001b[0;34m.\u001b[0m\u001b[0mnotes\u001b[0m\u001b[0;34m(\u001b[0m\u001b[0;34m'/Users/chenrui/Documents/MIDS/W210/sample.mp3'\u001b[0m\u001b[0;34m,\u001b[0m \u001b[0msamplerate\u001b[0m\u001b[0;34m,\u001b[0m \u001b[0mhop_size\u001b[0m\u001b[0;34m)\u001b[0m\u001b[0;34m\u001b[0m\u001b[0m\n\u001b[0m\u001b[1;32m     12\u001b[0m \u001b[0;34m\u001b[0m\u001b[0m\n\u001b[1;32m     13\u001b[0m \u001b[0mprint\u001b[0m \u001b[0;34m(\u001b[0m\u001b[0msample\u001b[0m\u001b[0;34m)\u001b[0m\u001b[0;34m\u001b[0m\u001b[0m\n",
      "\u001b[0;31mRuntimeError\u001b[0m: failed creating notes"
     ]
    }
   ],
   "source": [
    "##2## Create Aubio file using \"notes\" command (https://media.readthedocs.org/pdf/aubio/latest/aubio.pdf)\n",
    "#Not Successful so far; Maybe use existing code as alternative?? https://github.com/kichiki/WaoN\n",
    "\n",
    "#! /usr/bin/env python\n",
    "import sys, aubio\n",
    "from aubio import source, notes\n",
    "\n",
    "\n",
    "samplerate = 0  # use original source samplerate\n",
    "hop_size = 256 # number of frames to read in one block\n",
    "sample = aubio.notes('/Users/chenrui/Documents/MIDS/W210/sample.mp3', samplerate, hop_size)\n",
    "\n",
    "print (sample)"
   ]
  },
  {
   "cell_type": "code",
   "execution_count": 6,
   "metadata": {
    "collapsed": false
   },
   "outputs": [
    {
     "name": "stdout",
     "output_type": "stream",
     "text": [
      "read /Users/chenrui/Documents/MIDS/W210/sample.m4a\n",
      "applied A-weighting filtered (44100 Hz)\n",
      "wrote filtered_-f.wav (117.68 s)\n",
      "read /Users/chenrui/Documents/MIDS/W210/sample.m4a\n",
      "applied A-weighting filtered (44100 Hz)\n",
      "wrote filtered_kernel-1346702e-92da-4014-a228-40c80869203b.wav (117.68 s)\n"
     ]
    }
   ],
   "source": [
    "##3## Filter the input music\n",
    "\n",
    "#! /usr/bin/env python\n",
    "\n",
    "\n",
    "def apply_filter(path):\n",
    "    from aubio import source, sink, digital_filter\n",
    "    from os.path import basename, splitext\n",
    "\n",
    "    # open input file, get its samplerate\n",
    "    s = source('/Users/chenrui/Documents/MIDS/W210/sample.m4a')\n",
    "    samplerate = s.samplerate\n",
    "\n",
    "    # create an A-weighting filter\n",
    "    f = digital_filter(7)\n",
    "    f.set_a_weighting(samplerate)\n",
    "    # alternatively, apply another filter\n",
    "\n",
    "    # create output file\n",
    "    o = sink(\"filtered_\" + splitext(basename(path))[0] + \".wav\", samplerate)\n",
    "\n",
    "    total_frames = 0\n",
    "    while True:\n",
    "        samples, read = s()\n",
    "        filtered_samples = f(samples)\n",
    "        o(filtered_samples, read)\n",
    "        total_frames += read\n",
    "        if read < s.hop_size: break\n",
    "\n",
    "    duration = total_frames / float(samplerate)\n",
    "    print (\"read {:s}\".format(s.uri))\n",
    "    print (\"applied A-weighting filtered ({:d} Hz)\".format(samplerate))\n",
    "    print (\"wrote {:s} ({:.2f} s)\".format(o.uri, duration))\n",
    "\n",
    "if __name__ == '__main__':\n",
    "    import sys\n",
    "    for f in sys.argv[1:]:\n",
    "        apply_filter(f)"
   ]
  },
  {
   "cell_type": "code",
   "execution_count": null,
   "metadata": {
    "collapsed": false
   },
   "outputs": [],
   "source": [
    "##Reference - Note Command##\n",
    "\n",
    "#! /usr/bin/env python\n",
    "\n",
    "import sys\n",
    "from aubio import source, notes\n",
    "\n",
    "if len(sys.argv) < 2:\n",
    "    print(\"Usage: %s <filename> [samplerate]\" % sys.argv[0])\n",
    "    sys.exit(1)\n",
    "\n",
    "#filename = sys.argv[1]\n",
    "#filename = '/Users/chenrui/Documents/MIDS/W210/sample.m4a'\n",
    "\n",
    "downsample = 1\n",
    "samplerate = 44100 // downsample\n",
    "#if len( sys.argv ) > 2: samplerate = int(sys.argv[2])\n",
    "\n",
    "win_s = 512 // downsample # fft size\n",
    "hop_s = 256 // downsample # hop size\n",
    "\n",
    "s = source('/Users/chenrui/Documents/MIDS/W210/sample.m4a', samplerate, hop_s)\n",
    "samplerate = s.samplerate\n",
    "\n",
    "tolerance = 0.8\n",
    "\n",
    "notes_o = notes(\"default\", win_s, hop_s, samplerate)\n",
    "\n",
    "print(\"%8s\" % \"time\",\"[ start\",\"vel\",\"last ]\")\n",
    "\n",
    "# total number of frames read\n",
    "total_frames = 0\n",
    "while True:\n",
    "    samples, read = s()\n",
    "    new_note = notes_o(samples)\n",
    "    if (new_note[0] != 0):\n",
    "        note_str = ' '.join([\"%.2f\" % i for i in new_note])\n",
    "        print(\"%.6f\" % (total_frames/float(samplerate)), new_note)\n",
    "    total_frames += read\n",
    "    if read < hop_s: break"
   ]
  },
  {
   "cell_type": "code",
   "execution_count": null,
   "metadata": {
    "collapsed": true
   },
   "outputs": [],
   "source": [
    "##Convert MIDI file to Audio##\n",
    "#Link: http://devonbryant.github.io/blog/2013/08/24/midi-to-audio-conversion-with-python/\n",
    "#Online coverter, which might need more clean up: https://www.ofoct.com/audio-converter/convert-wav-or-mp3-ogg-aac-wma-to-midi.html\n",
    "#Sequencer to view MIDI file: https://onlinesequencer.net/\n",
    "\n"
   ]
  }
 ],
 "metadata": {
  "kernelspec": {
   "display_name": "Python 3",
   "language": "python",
   "name": "python3"
  },
  "language_info": {
   "codemirror_mode": {
    "name": "ipython",
    "version": 3
   },
   "file_extension": ".py",
   "mimetype": "text/x-python",
   "name": "python",
   "nbconvert_exporter": "python",
   "pygments_lexer": "ipython3",
   "version": "3.6.0"
  }
 },
 "nbformat": 4,
 "nbformat_minor": 2
}
